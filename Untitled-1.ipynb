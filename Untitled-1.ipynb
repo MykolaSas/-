{
 "cells": [
  {
   "cell_type": "code",
   "execution_count": null,
   "metadata": {
    "vscode": {
     "languageId": "html"
    }
   },
   "outputs": [],
   "source": [
    "<body>\n",
    "    <header>\n",
    "      <nav>\n",
    "        <div class=\"logo\"></div>\n",
    "        <div class=\"menu\"></div>\n",
    "        <div class=\"user-profile\"></div>\n",
    "      </nav>\n",
    "    </header>\n",
    "  </body>"
   ]
  }
 ],
 "metadata": {
  "language_info": {
   "name": "python"
  }
 },
 "nbformat": 4,
 "nbformat_minor": 2
}
